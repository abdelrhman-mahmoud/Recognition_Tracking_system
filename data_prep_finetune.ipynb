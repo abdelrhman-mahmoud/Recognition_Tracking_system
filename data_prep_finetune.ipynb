{
 "cells": [
  {
   "cell_type": "code",
   "execution_count": null,
   "metadata": {},
   "outputs": [
    {
     "name": "stdout",
     "output_type": "stream",
     "text": [
      "Feature dimension: 49152\n",
      "Loaded pre-trained weights from best_faces.pt\n",
      "Number of images in data: 996\n",
      "Created 100000 triplets (skipped 0 subfolders with < 2 images)\n",
      "Train size: 70000, Val size: 15000, Test size: 15000\n"
     ]
    },
    {
     "name": "stderr",
     "output_type": "stream",
     "text": [
      "                                                                                             \r"
     ]
    },
    {
     "name": "stdout",
     "output_type": "stream",
     "text": [
      "Initial Validation Loss: 0.4040, Accuracy: 0.7371\n"
     ]
    },
    {
     "name": "stderr",
     "output_type": "stream",
     "text": [
      "Epoch 1/50 [Train]: 100%|██████████| 137/137 [02:50<00:00,  1.24s/batch, train_loss=0.0225, d_ap=0.514]\n",
      "                                                                                       \r"
     ]
    },
    {
     "name": "stdout",
     "output_type": "stream",
     "text": [
      "Epoch 1/50:\n",
      "  Train Loss: 0.0755, Train Accuracy: 0.9674\n",
      "  Val Loss: 0.0267, Val Accuracy: 0.9957\n",
      "  Model saved to best_face_finetune2.pt (Best Val Loss: 0.0267)\n"
     ]
    },
    {
     "name": "stderr",
     "output_type": "stream",
     "text": [
      "Epoch 2/50 [Train]: 100%|██████████| 137/137 [02:50<00:00,  1.25s/batch, train_loss=0.0107, d_ap=0.487] \n",
      "                                                                                        \r"
     ]
    },
    {
     "name": "stdout",
     "output_type": "stream",
     "text": [
      "Epoch 2/50:\n",
      "  Train Loss: 0.0167, Train Accuracy: 0.9985\n",
      "  Val Loss: 0.0097, Val Accuracy: 0.9995\n",
      "  Model saved to best_face_finetune2.pt (Best Val Loss: 0.0097)\n"
     ]
    },
    {
     "name": "stderr",
     "output_type": "stream",
     "text": [
      "Epoch 3/50 [Train]: 100%|██████████| 137/137 [02:51<00:00,  1.25s/batch, train_loss=0.00535, d_ap=0.471]\n",
      "                                                                                        \r"
     ]
    },
    {
     "name": "stdout",
     "output_type": "stream",
     "text": [
      "Epoch 3/50:\n",
      "  Train Loss: 0.0069, Train Accuracy: 0.9998\n",
      "  Val Loss: 0.0057, Val Accuracy: 0.9999\n",
      "  Model saved to best_face_finetune2.pt (Best Val Loss: 0.0057)\n"
     ]
    },
    {
     "name": "stderr",
     "output_type": "stream",
     "text": [
      "Epoch 4/50 [Train]: 100%|██████████| 137/137 [02:46<00:00,  1.21s/batch, train_loss=0.00342, d_ap=0.459]\n",
      "                                                                                         \r"
     ]
    },
    {
     "name": "stdout",
     "output_type": "stream",
     "text": [
      "Epoch 4/50:\n",
      "  Train Loss: 0.0039, Train Accuracy: 0.9999\n",
      "  Val Loss: 0.0043, Val Accuracy: 1.0000\n",
      "  Model saved to best_face_finetune2.pt (Best Val Loss: 0.0043)\n"
     ]
    },
    {
     "name": "stderr",
     "output_type": "stream",
     "text": [
      "Epoch 5/50 [Train]: 100%|██████████| 137/137 [02:44<00:00,  1.20s/batch, train_loss=0.00111, d_ap=0.447] \n",
      "                                                                                         \r"
     ]
    },
    {
     "name": "stdout",
     "output_type": "stream",
     "text": [
      "Epoch 5/50:\n",
      "  Train Loss: 0.0023, Train Accuracy: 1.0000\n",
      "  Val Loss: 0.0014, Val Accuracy: 1.0000\n",
      "  Model saved to best_face_finetune2.pt (Best Val Loss: 0.0014)\n"
     ]
    },
    {
     "name": "stderr",
     "output_type": "stream",
     "text": [
      "Epoch 6/50 [Train]: 100%|██████████| 137/137 [02:45<00:00,  1.21s/batch, train_loss=0.00233, d_ap=0.455] \n",
      "                                                                                         \r"
     ]
    },
    {
     "name": "stdout",
     "output_type": "stream",
     "text": [
      "Epoch 6/50:\n",
      "  Train Loss: 0.0019, Train Accuracy: 1.0000\n",
      "  Val Loss: 0.0022, Val Accuracy: 1.0000\n",
      "  No improvement in validation loss for 1 epoochs\n"
     ]
    },
    {
     "name": "stderr",
     "output_type": "stream",
     "text": [
      "Epoch 7/50 [Train]: 100%|██████████| 137/137 [02:47<00:00,  1.22s/batch, train_loss=0.00213, d_ap=0.448] \n",
      "                                                                                         \r"
     ]
    },
    {
     "name": "stdout",
     "output_type": "stream",
     "text": [
      "Epoch 7/50:\n",
      "  Train Loss: 0.0018, Train Accuracy: 1.0000\n",
      "  Val Loss: 0.0017, Val Accuracy: 1.0000\n",
      "  No improvement in validation loss for 2 epoochs\n"
     ]
    },
    {
     "name": "stderr",
     "output_type": "stream",
     "text": [
      "Epoch 8/50 [Train]: 100%|██████████| 137/137 [02:45<00:00,  1.21s/batch, train_loss=0.000562, d_ap=0.442]\n",
      "                                                                                         \r"
     ]
    },
    {
     "name": "stdout",
     "output_type": "stream",
     "text": [
      "Epoch 8/50:\n",
      "  Train Loss: 0.0014, Train Accuracy: 1.0000\n",
      "  Val Loss: 0.0013, Val Accuracy: 1.0000\n",
      "  Model saved to best_face_finetune2.pt (Best Val Loss: 0.0013)\n"
     ]
    },
    {
     "name": "stderr",
     "output_type": "stream",
     "text": [
      "Epoch 9/50 [Train]: 100%|██████████| 137/137 [02:47<00:00,  1.23s/batch, train_loss=0.00203, d_ap=0.424] \n",
      "                                                                                         \r"
     ]
    },
    {
     "name": "stdout",
     "output_type": "stream",
     "text": [
      "Epoch 9/50:\n",
      "  Train Loss: 0.0012, Train Accuracy: 1.0000\n",
      "  Val Loss: 0.0015, Val Accuracy: 1.0000\n",
      "  No improvement in validation loss for 1 epoochs\n"
     ]
    },
    {
     "name": "stderr",
     "output_type": "stream",
     "text": [
      "Epoch 10/50 [Train]: 100%|██████████| 137/137 [02:47<00:00,  1.22s/batch, train_loss=0.000943, d_ap=0.434]\n",
      "                                                                                         \r"
     ]
    },
    {
     "name": "stdout",
     "output_type": "stream",
     "text": [
      "Epoch 10/50:\n",
      "  Train Loss: 0.0016, Train Accuracy: 1.0000\n",
      "  Val Loss: 0.0022, Val Accuracy: 1.0000\n",
      "  No improvement in validation loss for 2 epoochs\n"
     ]
    },
    {
     "name": "stderr",
     "output_type": "stream",
     "text": [
      "Epoch 11/50 [Train]: 100%|██████████| 137/137 [02:47<00:00,  1.22s/batch, train_loss=0.000159, d_ap=0.432]\n",
      "                                                                                         \r"
     ]
    },
    {
     "name": "stdout",
     "output_type": "stream",
     "text": [
      "Epoch 11/50:\n",
      "  Train Loss: 0.0011, Train Accuracy: 1.0000\n",
      "  Val Loss: 0.0021, Val Accuracy: 1.0000\n",
      "  No improvement in validation loss for 3 epoochs\n"
     ]
    },
    {
     "name": "stderr",
     "output_type": "stream",
     "text": [
      "Epoch 12/50 [Train]: 100%|██████████| 137/137 [02:46<00:00,  1.22s/batch, train_loss=0.000916, d_ap=0.443]\n",
      "                                                                                         \r"
     ]
    },
    {
     "name": "stdout",
     "output_type": "stream",
     "text": [
      "Epoch 12/50:\n",
      "  Train Loss: 0.0010, Train Accuracy: 1.0000\n",
      "  Val Loss: 0.0014, Val Accuracy: 1.0000\n",
      "  No improvement in validation loss for 4 epoochs\n"
     ]
    },
    {
     "name": "stderr",
     "output_type": "stream",
     "text": [
      "Epoch 13/50 [Train]: 100%|██████████| 137/137 [02:48<00:00,  1.23s/batch, train_loss=0.000265, d_ap=0.408]\n",
      "                                                                                         \r"
     ]
    },
    {
     "name": "stdout",
     "output_type": "stream",
     "text": [
      "Epoch 13/50:\n",
      "  Train Loss: 0.0003, Train Accuracy: 1.0000\n",
      "  Val Loss: 0.0002, Val Accuracy: 1.0000\n",
      "  Model saved to best_face_finetune2.pt (Best Val Loss: 0.0002)\n"
     ]
    },
    {
     "name": "stderr",
     "output_type": "stream",
     "text": [
      "Epoch 14/50 [Train]: 100%|██████████| 137/137 [02:47<00:00,  1.22s/batch, train_loss=0, d_ap=0.405]       \n",
      "                                                                                         \r"
     ]
    },
    {
     "name": "stdout",
     "output_type": "stream",
     "text": [
      "Epoch 14/50:\n",
      "  Train Loss: 0.0001, Train Accuracy: 1.0000\n",
      "  Val Loss: 0.0002, Val Accuracy: 1.0000\n",
      "  Model saved to best_face_finetune2.pt (Best Val Loss: 0.0002)\n"
     ]
    },
    {
     "name": "stderr",
     "output_type": "stream",
     "text": [
      "Epoch 15/50 [Train]: 100%|██████████| 137/137 [02:48<00:00,  1.23s/batch, train_loss=0, d_ap=0.411]       \n",
      "                                                                                         \r"
     ]
    },
    {
     "name": "stdout",
     "output_type": "stream",
     "text": [
      "Epoch 15/50:\n",
      "  Train Loss: 0.0001, Train Accuracy: 1.0000\n",
      "  Val Loss: 0.0005, Val Accuracy: 1.0000\n",
      "  No improvement in validation loss for 1 epoochs\n"
     ]
    },
    {
     "name": "stderr",
     "output_type": "stream",
     "text": [
      "Epoch 16/50 [Train]: 100%|██████████| 137/137 [02:46<00:00,  1.21s/batch, train_loss=0.000242, d_ap=0.423]\n",
      "                                                                                         \r"
     ]
    },
    {
     "name": "stdout",
     "output_type": "stream",
     "text": [
      "Epoch 16/50:\n",
      "  Train Loss: 0.0003, Train Accuracy: 1.0000\n",
      "  Val Loss: 0.0008, Val Accuracy: 1.0000\n",
      "  No improvement in validation loss for 2 epoochs\n"
     ]
    },
    {
     "name": "stderr",
     "output_type": "stream",
     "text": [
      "Epoch 17/50 [Train]: 100%|██████████| 137/137 [02:48<00:00,  1.23s/batch, train_loss=0.000291, d_ap=0.414]\n",
      "                                                                                         \r"
     ]
    },
    {
     "name": "stdout",
     "output_type": "stream",
     "text": [
      "Epoch 17/50:\n",
      "  Train Loss: 0.0005, Train Accuracy: 1.0000\n",
      "  Val Loss: 0.0008, Val Accuracy: 1.0000\n",
      "  No improvement in validation loss for 3 epoochs\n"
     ]
    },
    {
     "name": "stderr",
     "output_type": "stream",
     "text": [
      "Epoch 18/50 [Train]: 100%|██████████| 137/137 [02:43<00:00,  1.20s/batch, train_loss=0, d_ap=0.418]       \n",
      "                                                                                         \r"
     ]
    },
    {
     "name": "stdout",
     "output_type": "stream",
     "text": [
      "Epoch 18/50:\n",
      "  Train Loss: 0.0005, Train Accuracy: 1.0000\n",
      "  Val Loss: 0.0004, Val Accuracy: 1.0000\n",
      "  No improvement in validation loss for 4 epoochs\n"
     ]
    },
    {
     "name": "stderr",
     "output_type": "stream",
     "text": [
      "Epoch 19/50 [Train]: 100%|██████████| 137/137 [02:47<00:00,  1.22s/batch, train_loss=0, d_ap=0.394]       \n",
      "                                                                                         \r"
     ]
    },
    {
     "name": "stdout",
     "output_type": "stream",
     "text": [
      "Epoch 19/50:\n",
      "  Train Loss: 0.0001, Train Accuracy: 1.0000\n",
      "  Val Loss: 0.0001, Val Accuracy: 1.0000\n",
      "  Model saved to best_face_finetune2.pt (Best Val Loss: 0.0001)\n"
     ]
    },
    {
     "name": "stderr",
     "output_type": "stream",
     "text": [
      "Epoch 20/50 [Train]: 100%|██████████| 137/137 [02:44<00:00,  1.20s/batch, train_loss=0, d_ap=0.387]       \n",
      "                                                                                         \r"
     ]
    },
    {
     "name": "stdout",
     "output_type": "stream",
     "text": [
      "Epoch 20/50:\n",
      "  Train Loss: 0.0000, Train Accuracy: 1.0000\n",
      "  Val Loss: 0.0001, Val Accuracy: 1.0000\n",
      "  No improvement in validation loss for 1 epoochs\n"
     ]
    },
    {
     "name": "stderr",
     "output_type": "stream",
     "text": [
      "Epoch 21/50 [Train]: 100%|██████████| 137/137 [02:45<00:00,  1.21s/batch, train_loss=0, d_ap=0.395]       \n",
      "                                                                                         \r"
     ]
    },
    {
     "name": "stdout",
     "output_type": "stream",
     "text": [
      "Epoch 21/50:\n",
      "  Train Loss: 0.0000, Train Accuracy: 1.0000\n",
      "  Val Loss: 0.0001, Val Accuracy: 1.0000\n",
      "  No improvement in validation loss for 2 epoochs\n"
     ]
    },
    {
     "name": "stderr",
     "output_type": "stream",
     "text": [
      "Epoch 22/50 [Train]: 100%|██████████| 137/137 [02:49<00:00,  1.24s/batch, train_loss=0, d_ap=0.408]       \n",
      "                                                                                         \r"
     ]
    },
    {
     "name": "stdout",
     "output_type": "stream",
     "text": [
      "Epoch 22/50:\n",
      "  Train Loss: 0.0001, Train Accuracy: 1.0000\n",
      "  Val Loss: 0.0002, Val Accuracy: 1.0000\n",
      "  No improvement in validation loss for 3 epoochs\n"
     ]
    },
    {
     "name": "stderr",
     "output_type": "stream",
     "text": [
      "Epoch 23/50 [Train]: 100%|██████████| 137/137 [02:45<00:00,  1.21s/batch, train_loss=0.000264, d_ap=0.411]\n",
      "                                                                                         \r"
     ]
    },
    {
     "name": "stdout",
     "output_type": "stream",
     "text": [
      "Epoch 23/50:\n",
      "  Train Loss: 0.0001, Train Accuracy: 1.0000\n",
      "  Val Loss: 0.0003, Val Accuracy: 1.0000\n",
      "  No improvement in validation loss for 4 epoochs\n"
     ]
    },
    {
     "name": "stderr",
     "output_type": "stream",
     "text": [
      "Epoch 24/50 [Train]: 100%|██████████| 137/137 [02:46<00:00,  1.22s/batch, train_loss=0, d_ap=0.391]       \n",
      "                                                                                         \r"
     ]
    },
    {
     "name": "stdout",
     "output_type": "stream",
     "text": [
      "Epoch 24/50:\n",
      "  Train Loss: 0.0000, Train Accuracy: 1.0000\n",
      "  Val Loss: 0.0001, Val Accuracy: 1.0000\n",
      "  No improvement in validation loss for 5 epoochs\n"
     ]
    },
    {
     "name": "stderr",
     "output_type": "stream",
     "text": [
      "Epoch 25/50 [Train]: 100%|██████████| 137/137 [02:45<00:00,  1.21s/batch, train_loss=0, d_ap=0.377]       \n",
      "                                                                                         \r"
     ]
    },
    {
     "name": "stdout",
     "output_type": "stream",
     "text": [
      "Epoch 25/50:\n",
      "  Train Loss: 0.0000, Train Accuracy: 1.0000\n",
      "  Val Loss: 0.0001, Val Accuracy: 1.0000\n",
      "  Model saved to best_face_finetune2.pt (Best Val Loss: 0.0001)\n"
     ]
    },
    {
     "name": "stderr",
     "output_type": "stream",
     "text": [
      "Epoch 26/50 [Train]: 100%|██████████| 137/137 [02:45<00:00,  1.21s/batch, train_loss=0, d_ap=0.387]      \n",
      "                                                                                         \r"
     ]
    },
    {
     "name": "stdout",
     "output_type": "stream",
     "text": [
      "Epoch 26/50:\n",
      "  Train Loss: 0.0000, Train Accuracy: 1.0000\n",
      "  Val Loss: 0.0000, Val Accuracy: 1.0000\n",
      "  Model saved to best_face_finetune2.pt (Best Val Loss: 0.0000)\n"
     ]
    },
    {
     "name": "stderr",
     "output_type": "stream",
     "text": [
      "Epoch 27/50 [Train]: 100%|██████████| 137/137 [02:48<00:00,  1.23s/batch, train_loss=0, d_ap=0.39]       \n",
      "                                                                                         \r"
     ]
    },
    {
     "name": "stdout",
     "output_type": "stream",
     "text": [
      "Epoch 27/50:\n",
      "  Train Loss: 0.0000, Train Accuracy: 1.0000\n",
      "  Val Loss: 0.0000, Val Accuracy: 1.0000\n",
      "  No improvement in validation loss for 1 epoochs\n"
     ]
    },
    {
     "name": "stderr",
     "output_type": "stream",
     "text": [
      "Epoch 28/50 [Train]: 100%|██████████| 137/137 [02:45<00:00,  1.21s/batch, train_loss=0, d_ap=0.387]       \n",
      "                                                                                         \r"
     ]
    },
    {
     "name": "stdout",
     "output_type": "stream",
     "text": [
      "Epoch 28/50:\n",
      "  Train Loss: 0.0000, Train Accuracy: 1.0000\n",
      "  Val Loss: 0.0001, Val Accuracy: 1.0000\n",
      "  No improvement in validation loss for 2 epoochs\n"
     ]
    },
    {
     "name": "stderr",
     "output_type": "stream",
     "text": [
      "Epoch 29/50 [Train]: 100%|██████████| 137/137 [02:45<00:00,  1.21s/batch, train_loss=0, d_ap=0.394]       \n",
      "                                                                                         \r"
     ]
    },
    {
     "name": "stdout",
     "output_type": "stream",
     "text": [
      "Epoch 29/50:\n",
      "  Train Loss: 0.0000, Train Accuracy: 1.0000\n",
      "  Val Loss: 0.0002, Val Accuracy: 1.0000\n",
      "  No improvement in validation loss for 3 epoochs\n"
     ]
    },
    {
     "name": "stderr",
     "output_type": "stream",
     "text": [
      "Epoch 30/50 [Train]: 100%|██████████| 137/137 [02:48<00:00,  1.23s/batch, train_loss=0, d_ap=0.398]       \n",
      "                                                                                         \r"
     ]
    },
    {
     "name": "stdout",
     "output_type": "stream",
     "text": [
      "Epoch 30/50:\n",
      "  Train Loss: 0.0000, Train Accuracy: 1.0000\n",
      "  Val Loss: 0.0003, Val Accuracy: 1.0000\n",
      "  No improvement in validation loss for 4 epoochs\n"
     ]
    },
    {
     "name": "stderr",
     "output_type": "stream",
     "text": [
      "Epoch 31/50 [Train]: 100%|██████████| 137/137 [02:42<00:00,  1.19s/batch, train_loss=0, d_ap=0.391]      \n",
      "                                                                                         \r"
     ]
    },
    {
     "name": "stdout",
     "output_type": "stream",
     "text": [
      "Epoch 31/50:\n",
      "  Train Loss: 0.0000, Train Accuracy: 1.0000\n",
      "  Val Loss: 0.0001, Val Accuracy: 1.0000\n",
      "  No improvement in validation loss for 5 epoochs\n"
     ]
    },
    {
     "name": "stderr",
     "output_type": "stream",
     "text": [
      "Epoch 32/50 [Train]: 100%|██████████| 137/137 [02:46<00:00,  1.22s/batch, train_loss=0, d_ap=0.388]      \n",
      "                                                                                         \r"
     ]
    },
    {
     "name": "stdout",
     "output_type": "stream",
     "text": [
      "Epoch 32/50:\n",
      "  Train Loss: 0.0000, Train Accuracy: 1.0000\n",
      "  Val Loss: 0.0001, Val Accuracy: 1.0000\n",
      "  No improvement in validation loss for 6 epoochs\n"
     ]
    },
    {
     "name": "stderr",
     "output_type": "stream",
     "text": [
      "Epoch 33/50 [Train]: 100%|██████████| 137/137 [02:48<00:00,  1.23s/batch, train_loss=0, d_ap=0.384]      \n",
      "                                                                                         \r"
     ]
    },
    {
     "name": "stdout",
     "output_type": "stream",
     "text": [
      "Epoch 33/50:\n",
      "  Train Loss: 0.0000, Train Accuracy: 1.0000\n",
      "  Val Loss: 0.0000, Val Accuracy: 1.0000\n",
      "  Model saved to best_face_finetune2.pt (Best Val Loss: 0.0000)\n"
     ]
    },
    {
     "name": "stderr",
     "output_type": "stream",
     "text": [
      "Epoch 34/50 [Train]: 100%|██████████| 137/137 [02:46<00:00,  1.21s/batch, train_loss=0, d_ap=0.385]       \n",
      "                                                                                         \r"
     ]
    },
    {
     "name": "stdout",
     "output_type": "stream",
     "text": [
      "Epoch 34/50:\n",
      "  Train Loss: 0.0000, Train Accuracy: 1.0000\n",
      "  Val Loss: 0.0001, Val Accuracy: 1.0000\n",
      "  No improvement in validation loss for 1 epoochs\n"
     ]
    },
    {
     "name": "stderr",
     "output_type": "stream",
     "text": [
      "Epoch 35/50 [Train]: 100%|██████████| 137/137 [02:40<00:00,  1.17s/batch, train_loss=0, d_ap=0.393]      \n",
      "                                                                                         \r"
     ]
    },
    {
     "name": "stdout",
     "output_type": "stream",
     "text": [
      "Epoch 35/50:\n",
      "  Train Loss: 0.0000, Train Accuracy: 1.0000\n",
      "  Val Loss: 0.0001, Val Accuracy: 1.0000\n",
      "  No improvement in validation loss for 2 epoochs\n"
     ]
    },
    {
     "name": "stderr",
     "output_type": "stream",
     "text": [
      "Epoch 36/50 [Train]: 100%|██████████| 137/137 [02:48<00:00,  1.23s/batch, train_loss=0, d_ap=0.389]       \n",
      "                                                                                         \r"
     ]
    },
    {
     "name": "stdout",
     "output_type": "stream",
     "text": [
      "Epoch 36/50:\n",
      "  Train Loss: 0.0000, Train Accuracy: 1.0000\n",
      "  Val Loss: 0.0001, Val Accuracy: 1.0000\n",
      "  No improvement in validation loss for 3 epoochs\n"
     ]
    },
    {
     "name": "stderr",
     "output_type": "stream",
     "text": [
      "Epoch 37/50 [Train]: 100%|██████████| 137/137 [02:46<00:00,  1.22s/batch, train_loss=0, d_ap=0.397]       \n",
      "                                                                                         \r"
     ]
    },
    {
     "name": "stdout",
     "output_type": "stream",
     "text": [
      "Epoch 37/50:\n",
      "  Train Loss: 0.0000, Train Accuracy: 1.0000\n",
      "  Val Loss: 0.0001, Val Accuracy: 1.0000\n",
      "  No improvement in validation loss for 4 epoochs\n"
     ]
    },
    {
     "name": "stderr",
     "output_type": "stream",
     "text": [
      "Epoch 38/50 [Train]: 100%|██████████| 137/137 [02:45<00:00,  1.21s/batch, train_loss=0, d_ap=0.391]      \n",
      "                                                                                         \r"
     ]
    },
    {
     "name": "stdout",
     "output_type": "stream",
     "text": [
      "Epoch 38/50:\n",
      "  Train Loss: 0.0000, Train Accuracy: 1.0000\n",
      "  Val Loss: 0.0001, Val Accuracy: 1.0000\n",
      "  No improvement in validation loss for 5 epoochs\n"
     ]
    },
    {
     "name": "stderr",
     "output_type": "stream",
     "text": [
      "Epoch 39/50 [Train]: 100%|██████████| 137/137 [02:46<00:00,  1.22s/batch, train_loss=0, d_ap=0.391]      \n",
      "                                                                                         \r"
     ]
    },
    {
     "name": "stdout",
     "output_type": "stream",
     "text": [
      "Epoch 39/50:\n",
      "  Train Loss: 0.0000, Train Accuracy: 1.0000\n",
      "  Val Loss: 0.0001, Val Accuracy: 1.0000\n",
      "  No improvement in validation loss for 6 epoochs\n"
     ]
    },
    {
     "name": "stderr",
     "output_type": "stream",
     "text": [
      "Epoch 40/50 [Train]: 100%|██████████| 137/137 [02:48<00:00,  1.23s/batch, train_loss=0, d_ap=0.395]      \n",
      "                                                                                         \r"
     ]
    },
    {
     "name": "stdout",
     "output_type": "stream",
     "text": [
      "Epoch 40/50:\n",
      "  Train Loss: 0.0000, Train Accuracy: 1.0000\n",
      "  Val Loss: 0.0000, Val Accuracy: 1.0000\n",
      "  No improvement in validation loss for 7 epoochs\n"
     ]
    },
    {
     "name": "stderr",
     "output_type": "stream",
     "text": [
      "Epoch 41/50 [Train]: 100%|██████████| 137/137 [02:41<00:00,  1.18s/batch, train_loss=0, d_ap=0.387]     \n",
      "                                                                                         \r"
     ]
    },
    {
     "name": "stdout",
     "output_type": "stream",
     "text": [
      "Epoch 41/50:\n",
      "  Train Loss: 0.0000, Train Accuracy: 1.0000\n",
      "  Val Loss: 0.0000, Val Accuracy: 1.0000\n",
      "  No improvement in validation loss for 8 epoochs\n"
     ]
    },
    {
     "name": "stderr",
     "output_type": "stream",
     "text": [
      "Epoch 42/50 [Train]: 100%|██████████| 137/137 [02:49<00:00,  1.23s/batch, train_loss=0, d_ap=0.385]      \n",
      "                                                                                         \r"
     ]
    },
    {
     "name": "stdout",
     "output_type": "stream",
     "text": [
      "Epoch 42/50:\n",
      "  Train Loss: 0.0000, Train Accuracy: 1.0000\n",
      "  Val Loss: 0.0000, Val Accuracy: 1.0000\n",
      "  Model saved to best_face_finetune2.pt (Best Val Loss: 0.0000)\n"
     ]
    },
    {
     "name": "stderr",
     "output_type": "stream",
     "text": [
      "Epoch 43/50 [Train]: 100%|██████████| 137/137 [02:55<00:00,  1.28s/batch, train_loss=0, d_ap=0.382]\n",
      "                                                                                         \r"
     ]
    },
    {
     "name": "stdout",
     "output_type": "stream",
     "text": [
      "Epoch 43/50:\n",
      "  Train Loss: 0.0000, Train Accuracy: 1.0000\n",
      "  Val Loss: 0.0000, Val Accuracy: 1.0000\n",
      "  Model saved to best_face_finetune2.pt (Best Val Loss: 0.0000)\n"
     ]
    },
    {
     "name": "stderr",
     "output_type": "stream",
     "text": [
      "Epoch 44/50 [Train]: 100%|██████████| 137/137 [02:43<00:00,  1.20s/batch, train_loss=0, d_ap=0.383]\n",
      "                                                                                         \r"
     ]
    },
    {
     "name": "stdout",
     "output_type": "stream",
     "text": [
      "Epoch 44/50:\n",
      "  Train Loss: 0.0000, Train Accuracy: 1.0000\n",
      "  Val Loss: 0.0000, Val Accuracy: 1.0000\n",
      "  No improvement in validation loss for 1 epoochs\n"
     ]
    },
    {
     "name": "stderr",
     "output_type": "stream",
     "text": [
      "Epoch 45/50 [Train]: 100%|██████████| 137/137 [02:46<00:00,  1.22s/batch, train_loss=0, d_ap=0.382]\n",
      "                                                                                         \r"
     ]
    },
    {
     "name": "stdout",
     "output_type": "stream",
     "text": [
      "Epoch 45/50:\n",
      "  Train Loss: 0.0000, Train Accuracy: 1.0000\n",
      "  Val Loss: 0.0000, Val Accuracy: 1.0000\n",
      "  No improvement in validation loss for 2 epoochs\n"
     ]
    },
    {
     "name": "stderr",
     "output_type": "stream",
     "text": [
      "Epoch 46/50 [Train]: 100%|██████████| 137/137 [02:43<00:00,  1.19s/batch, train_loss=0, d_ap=0.392]\n",
      "                                                                                         \r"
     ]
    },
    {
     "name": "stdout",
     "output_type": "stream",
     "text": [
      "Epoch 46/50:\n",
      "  Train Loss: 0.0000, Train Accuracy: 1.0000\n",
      "  Val Loss: 0.0000, Val Accuracy: 1.0000\n",
      "  No improvement in validation loss for 3 epoochs\n"
     ]
    },
    {
     "name": "stderr",
     "output_type": "stream",
     "text": [
      "Epoch 47/50 [Train]: 100%|██████████| 137/137 [02:45<00:00,  1.20s/batch, train_loss=0, d_ap=0.386]\n",
      "                                                                                         \r"
     ]
    },
    {
     "name": "stdout",
     "output_type": "stream",
     "text": [
      "Epoch 47/50:\n",
      "  Train Loss: 0.0000, Train Accuracy: 1.0000\n",
      "  Val Loss: 0.0000, Val Accuracy: 1.0000\n",
      "  No improvement in validation loss for 4 epoochs\n"
     ]
    },
    {
     "name": "stderr",
     "output_type": "stream",
     "text": [
      "Epoch 48/50 [Train]: 100%|██████████| 137/137 [02:54<00:00,  1.27s/batch, train_loss=0, d_ap=0.383]\n",
      "                                                                                         \r"
     ]
    },
    {
     "name": "stdout",
     "output_type": "stream",
     "text": [
      "Epoch 48/50:\n",
      "  Train Loss: 0.0000, Train Accuracy: 1.0000\n",
      "  Val Loss: 0.0000, Val Accuracy: 1.0000\n",
      "  No improvement in validation loss for 5 epoochs\n"
     ]
    },
    {
     "name": "stderr",
     "output_type": "stream",
     "text": [
      "Epoch 49/50 [Train]: 100%|██████████| 137/137 [02:50<00:00,  1.25s/batch, train_loss=0, d_ap=0.391]\n",
      "                                                                                         \r"
     ]
    },
    {
     "name": "stdout",
     "output_type": "stream",
     "text": [
      "Epoch 49/50:\n",
      "  Train Loss: 0.0000, Train Accuracy: 1.0000\n",
      "  Val Loss: 0.0000, Val Accuracy: 1.0000\n",
      "  No improvement in validation loss for 6 epoochs\n"
     ]
    },
    {
     "name": "stderr",
     "output_type": "stream",
     "text": [
      "Epoch 50/50 [Train]: 100%|██████████| 137/137 [02:57<00:00,  1.29s/batch, train_loss=0, d_ap=0.385]\n",
      "                                                                                         \r"
     ]
    },
    {
     "name": "stdout",
     "output_type": "stream",
     "text": [
      "Epoch 50/50:\n",
      "  Train Loss: 0.0000, Train Accuracy: 1.0000\n",
      "  Val Loss: 0.0000, Val Accuracy: 1.0000\n",
      "  No improvement in validation loss for 7 epoochs\n"
     ]
    },
    {
     "name": "stderr",
     "output_type": "stream",
     "text": [
      "                                                                                              "
     ]
    },
    {
     "name": "stdout",
     "output_type": "stream",
     "text": [
      "\n",
      "Test Evaluation:\n",
      "  Test Loss: 0.0001, Test Accuracy: 1.0000\n"
     ]
    },
    {
     "name": "stderr",
     "output_type": "stream",
     "text": [
      "\r"
     ]
    }
   ],
   "source": [
    "import os\n",
    "import random\n",
    "from PIL import Image\n",
    "import torch\n",
    "import torch.nn as nn\n",
    "import torch.nn.functional as F\n",
    "from torch.utils.data import Dataset, DataLoader, Subset\n",
    "import torchvision.transforms as transforms\n",
    "from ultralytics import YOLO\n",
    "from tqdm import tqdm\n",
    "import time\n",
    "torch.manual_seed(42)\n",
    "class TripletDataset(Dataset):\n",
    "    def __init__(self, data_dir, n_triplets=10000, transform=None):\n",
    "        self.data_dir = data_dir\n",
    "        self.transform = transform\n",
    "\n",
    "        if not os.path.exists(self.data_dir):\n",
    "            raise ValueError(f\"Directory Not Found: {self.data_dir}\")\n",
    "\n",
    "        self.data_imgs = self.load_images()\n",
    "        print(f'Number of images in data: {len(self.data_imgs)}')\n",
    "\n",
    "        self.triplets = self.create_triplets(self.data_imgs, n_triplets)\n",
    "        if not self.triplets:\n",
    "            raise ValueError(\"No valid triplets created. Check your data.\")\n",
    "\n",
    "    def load_images(self):\n",
    "        data_imgs = []\n",
    "\n",
    "        for subfolder in os.listdir(self.data_dir):\n",
    "            subfolder_path = os.path.join(self.data_dir, subfolder)\n",
    "            if not os.path.isdir(subfolder_path):\n",
    "                continue\n",
    "            for filename in os.listdir(subfolder_path):\n",
    "                if filename.lower().endswith(('.jpg', '.jpeg', '.png')):\n",
    "                    data_imgs.append(os.path.join(subfolder_path, filename))\n",
    "\n",
    "        if not data_imgs:\n",
    "            raise ValueError(f\"No valid images found in {self.data_dir}\")\n",
    "\n",
    "        return data_imgs\n",
    "\n",
    "    def create_triplets(self, data_imgs, n_triplets):\n",
    "        triplets = []\n",
    "        data_subfolder_to_images = {}\n",
    "\n",
    "        for img_path in data_imgs:\n",
    "            subfolder = os.path.basename(os.path.dirname(img_path))\n",
    "            if subfolder not in data_subfolder_to_images:\n",
    "                data_subfolder_to_images[subfolder] = []\n",
    "            data_subfolder_to_images[subfolder].append(img_path)\n",
    "\n",
    "        subfolder_list = list(data_subfolder_to_images.keys())\n",
    "        if len(subfolder_list) < 2:\n",
    "            raise ValueError(\"Need at least 2 subfolders (persons) to create triplets\")\n",
    "\n",
    "        skipped_subfolders = 0\n",
    "        for _ in range(n_triplets):\n",
    "            anchor_subfolder = random.choice(subfolder_list)\n",
    "            if len(data_subfolder_to_images[anchor_subfolder]) < 2:\n",
    "                skipped_subfolders += 1\n",
    "                continue\n",
    "\n",
    "            anchor_img, positive_img = random.sample(data_subfolder_to_images[anchor_subfolder], 2)\n",
    "\n",
    "            negative_subfolder = random.choice([s for s in subfolder_list if s != anchor_subfolder])\n",
    "            negative_img = random.choice(data_subfolder_to_images[negative_subfolder])\n",
    "\n",
    "            triplets.append((anchor_img, positive_img, negative_img))\n",
    "\n",
    "        if not triplets:\n",
    "            raise ValueError(\"No valid triplets created. Ensure subfolders have at least 2 images.\")\n",
    "        print(f'Created {len(triplets)} triplets (skipped {skipped_subfolders} subfolders with < 2 images)')\n",
    "        return triplets\n",
    "\n",
    "    def __len__(self):\n",
    "        \n",
    "        return len(self.triplets)\n",
    "\n",
    "    def __getitem__(self, idx):\n",
    "\n",
    "        anchor_path, positive_path, negative_path = self.triplets[idx]\n",
    "        anchor = Image.open(anchor_path).convert('RGB')\n",
    "        positive = Image.open(positive_path).convert('RGB')\n",
    "        negative = Image.open(negative_path).convert('RGB')\n",
    "\n",
    "        if self.transform:\n",
    "            anchor = self.transform(anchor)\n",
    "            positive = self.transform(positive)\n",
    "            negative = self.transform(negative)\n",
    "\n",
    "        return anchor, positive, negative\n",
    "\n",
    "class SiameseNet(nn.Module):\n",
    "    def __init__(self, feature_extractor, embedding_dim=256):\n",
    "        super(SiameseNet, self).__init__()\n",
    "        self.feature_extractor = feature_extractor\n",
    "        \n",
    "        with torch.no_grad():\n",
    "            sample_input = torch.randn(1, 3, 128, 128)\n",
    "            features = feature_extractor(sample_input)\n",
    "            feature_dim = features.view(features.size(0), -1).shape[1]\n",
    "            print(f\"Feature dimension: {feature_dim}\")\n",
    "        \n",
    "        self.dropout = nn.Dropout(0)\n",
    "        self.projection = nn.Linear(feature_dim, embedding_dim)\n",
    "\n",
    "    def forward(self, x):\n",
    "        features = self.feature_extractor(x)\n",
    "        features = features.view(features.size(0), -1)\n",
    "        features = self.dropout(features)\n",
    "        embedding = self.projection(features)\n",
    "        embedding = F.normalize(embedding, p=2, dim=1) \n",
    "        return embedding\n",
    "\n",
    "def compute_metrics(model, dataloader, margin, device, desc='Evaluating'):\n",
    "    model.eval()\n",
    "    total_loss = 0\n",
    "    correct_triplets = 0\n",
    "    total_triplets = 0\n",
    "    progress_bar = tqdm(dataloader, desc=desc, unit='batch', leave=False)\n",
    "    \n",
    "    with torch.no_grad():\n",
    "        for anchor, positive, negative in progress_bar:\n",
    "            anchor, positive, negative = anchor.to(device), positive.to(device), negative.to(device)\n",
    "            anchor_emb = model(anchor)\n",
    "            positive_emb = model(positive)\n",
    "            negative_emb = model(negative)\n",
    "            loss = F.triplet_margin_loss(anchor_emb, positive_emb, negative_emb, margin=margin)\n",
    "            total_loss += loss.item()\n",
    "            d_ap = torch.norm(anchor_emb - positive_emb, p=2, dim=1)\n",
    "            d_an = torch.norm(anchor_emb - negative_emb, p=2, dim=1)\n",
    "            correct_triplets += (d_ap < d_an).sum().item()\n",
    "            total_triplets += anchor.size(0)\n",
    "            progress_bar.set_postfix({'loss': loss.item(), 'd_ap': d_ap.mean().item()})\n",
    "    \n",
    "    avg_loss = total_loss / len(dataloader)\n",
    "    accuracy = correct_triplets / total_triplets if total_triplets > 0 else 0\n",
    "    return avg_loss, accuracy\n",
    "\n",
    "# Setup\n",
    "device = torch.device('cuda' if torch.cuda.is_available() else 'cpu')\n",
    "model = YOLO('yolo11n-cls.pt')\n",
    "feature_extractor = nn.Sequential(*list(model.model.children())[:-1])\n",
    "siamese_net = SiameseNet(feature_extractor, embedding_dim=256).to(device)\n",
    "\n",
    "model_save_path = 'best_faces.pt'\n",
    "if os.path.exists(model_save_path):\n",
    "    siamese_net.load_state_dict(torch.load(model_save_path))\n",
    "    print(f\"Loaded pre-trained weights from {model_save_path}\")\n",
    "else:\n",
    "    print(f\"No pre-trained model found at {model_save_path}, starting from scratch\")\n",
    "\n",
    "optimizer = torch.optim.Adam(siamese_net.parameters(), lr=0.00001, weight_decay=1e-2) \n",
    "scheduler = torch.optim.lr_scheduler.ReduceLROnPlateau(optimizer, mode='min', factor=0.5, patience=3, verbose=True)\n",
    "margin = 0.6\n",
    "\n",
    "# Transform\n",
    "transform = transforms.Compose([\n",
    "    transforms.Resize((128, 128)),\n",
    "    # transforms.RandomHorizontalFlip(p=0.3),\n",
    "    # transforms.RandomRotation(5),\n",
    "    # transforms.ColorJitter(brightness=0.1, contrast=0.1, saturation=0.1),\n",
    "    transforms.ToTensor(),\n",
    "    transforms.Normalize(mean=[0.485, 0.456, 0.406], std=[0.229, 0.224, 0.225])\n",
    "])\n",
    "\n",
    "dataset = TripletDataset(data_dir='data', n_triplets=15000, transform=transform)\n",
    "total_size = len(dataset)\n",
    "train_size = int(0.7 * total_size)\n",
    "val_size = int(0.15 * total_size)\n",
    "test_size = total_size - train_size - val_size\n",
    "\n",
    "\n",
    "indices = list(range(total_size))\n",
    "random.shuffle(indices)\n",
    "train_indices = indices[:train_size]\n",
    "val_indices = indices[train_size:train_size + val_size]\n",
    "test_indices = indices[train_size + val_size:]\n",
    "\n",
    "train_dataset = Subset(dataset, train_indices)\n",
    "val_dataset = Subset(dataset, val_indices)\n",
    "test_dataset = Subset(dataset, test_indices)\n",
    "\n",
    "train_loader = DataLoader(train_dataset, batch_size=512, shuffle=True)\n",
    "val_loader = DataLoader(val_dataset, batch_size=512, shuffle=False)\n",
    "test_loader = DataLoader(test_dataset, batch_size=512, shuffle=False)\n",
    "\n",
    "print(f\"Train size: {len(train_dataset)}, Val size: {len(val_dataset)}, Test size: {len(test_dataset)}\")\n",
    "\n",
    "\n",
    "num_epochs = 50  \n",
    "best_val_loss = float('inf')\n",
    "fine_tune_save_path = 'best_face_finetune'\n",
    "patience = 10\n",
    "epochs_no_improve = 0\n",
    "\n",
    "if os.path.exists(model_save_path):\n",
    "    initial_val_loss, initial_val_acc = compute_metrics(siamese_net, val_loader, margin, device, desc='Initial Validation')\n",
    "    best_val_loss = initial_val_loss\n",
    "    print(f\"Initial Validation Loss: {initial_val_loss:.4f}, Accuracy: {initial_val_acc:.4f}\")\n",
    "\n",
    "for epoch in range(num_epochs):\n",
    "    siamese_net.train()\n",
    "    total_train_loss = 0\n",
    "    correct_train_triplets = 0\n",
    "    total_train_triplets = 0\n",
    "    progress_bar = tqdm(train_loader, desc=f'Epoch {epoch+1}/{num_epochs} [Train]', unit='batch')\n",
    "    \n",
    "    for anchor, positive, negative in progress_bar:\n",
    "        anchor, positive, negative = anchor.to(device), positive.to(device), negative.to(device)\n",
    "        optimizer.zero_grad()\n",
    "        anchor_emb = siamese_net(anchor)\n",
    "        positive_emb = siamese_net(positive)\n",
    "        negative_emb = siamese_net(negative)\n",
    "        loss = F.triplet_margin_loss(anchor_emb, positive_emb, negative_emb, margin=margin)\n",
    "        loss.backward()\n",
    "        optimizer.step()\n",
    "        \n",
    "        total_train_loss += loss.item()\n",
    "        d_ap = torch.norm(anchor_emb - positive_emb, p=2, dim=1)\n",
    "        d_an = torch.norm(anchor_emb - negative_emb, p=2, dim=1)\n",
    "        correct_train_triplets += (d_ap < d_an).sum().item()\n",
    "        total_train_triplets += anchor.size(0)\n",
    "        \n",
    "        progress_bar.set_postfix({'train_loss': loss.item(), 'd_ap': d_ap.mean().item()})\n",
    "\n",
    "    # if (epoch %10==0 and epoch >1):\n",
    "    #     time.sleep(200)\n",
    "\n",
    "    \n",
    "    train_loss = total_train_loss / len(train_loader)\n",
    "    train_acc = correct_train_triplets / total_train_triplets if total_train_triplets > 0 else 0\n",
    "    \n",
    "    val_loss, val_acc = compute_metrics(siamese_net, val_loader, margin, device, desc='Validation')\n",
    "    \n",
    "    scheduler.step(val_loss)\n",
    "    \n",
    "    print(f'Epoch {epoch+1}/{num_epochs}:')\n",
    "    print(f'  Train Loss: {train_loss:.4f}, Train Accuracy: {train_acc:.4f}')\n",
    "    print(f'  Val Loss: {val_loss:.4f}, Val Accuracy: {val_acc:.4f}')\n",
    "    \n",
    "    if val_loss < best_val_loss:\n",
    "        best_val_loss = val_loss\n",
    "        torch.save(siamese_net.state_dict(), fine_tune_save_path)\n",
    "        print(f'  Model saved to {fine_tune_save_path} (Best Val Loss: {best_val_loss:.4f})')\n",
    "        epochs_no_improve = 0\n",
    "    else:\n",
    "        epochs_no_improve += 1\n",
    "        print(f'  No improvement in validation loss for {epochs_no_improve} epoochs')\n",
    "        if epochs_no_improve >= patience:\n",
    "            print(f'  Early stopping triggered after {epoch+1} epochs')\n",
    "            break\n",
    "\n",
    "test_loss, test_acc = compute_metrics(siamese_net, test_loader, margin, device, desc='Test Evaluation')\n",
    "print(f'\\nTest Evaluation:')\n",
    "print(f'  Test Loss: {test_loss:.4f}, Test Accuracy: {test_acc:.4f}')"
   ]
  },
  {
   "cell_type": "code",
   "execution_count": null,
   "metadata": {},
   "outputs": [
    {
     "name": "stdout",
     "output_type": "stream",
     "text": [
      "[2, 5, 6, 7, 8, 10, 13, 14, 17, 23, 27, 30, 34, 35, 36, 37, 38, 39, 43, 46, 47, 51, 52, 53, 54, 58, 59, 60, 62, 63, 65, 66, 69, 70, 71, 72, 75, 76, 79, 81, 82, 83, 84, 85, 86, 89, 90, 91, 93, 95, 99, 103, 104, 105, 106, 107, 110, 112, 113, 115, 117, 118, 119, 120, 121, 127, 129, 130, 132, 134, 135, 139, 141, 142, 143, 144, 145, 147, 148, 150, 152, 154, 155, 156, 158, 163, 164, 165, 169, 170, 171, 173, 174, 178, 179, 180, 181, 182, 183, 187, 188, 189, 190, 195, 196, 198, 199, 202, 203, 204, 207, 210, 211, 212, 214, 215, 216, 217, 219, 220, 221, 222, 224, 225, 226, 227, 230, 234, 241, 242, 243, 244, 246, 247, 248, 249, 251, 253, 255, 257, 258, 260, 261, 262, 263, 264, 265, 267, 268, 269, 271, 272, 273, 274, 276, 277, 278, 280, 281, 282, 283, 286, 288, 292, 294, 298, 305, 306, 309, 310, 312, 313, 314, 315, 316, 319, 320, 323, 324, 325, 328, 329, 330, 331, 335, 336, 337, 338, 339, 341, 346, 350, 352, 353, 354, 357, 359, 360, 361, 362, 367, 368, 369, 373, 374, 376, 377, 378, 379, 381, 382, 383, 384, 385, 386, 388, 390, 391, 392, 393, 395, 396, 397, 399, 402, 405, 406, 407, 408, 409, 410, 411, 412, 413, 414, 415, 416, 417, 418, 419, 420, 422, 424, 425, 427, 428, 429, 430, 431, 432, 434, 435, 437, 439, 440, 441, 442, 446, 447, 448, 449, 450, 453, 456, 457, 460, 464, 465, 466, 467, 469, 473, 474, 475, 478, 479, 480, 484, 485, 486, 487, 489, 490, 491, 493, 494, 498, 501, 502, 503, 504, 506, 508, 516, 517, 520, 522, 523, 525, 526, 528, 530, 531, 532, 533, 535, 536, 537, 539, 541, 542, 543, 544, 546, 548, 550, 551, 552, 553, 555, 557, 558, 559, 560, 562, 563, 564, 567, 568, 569, 571, 572, 573, 575, 577, 578, 579, 580, 581, 582, 583, 584, 585, 588, 591, 593, 595, 596, 598, 600, 601, 602, 605, 607, 608, 610, 611, 612, 614, 615, 616, 618, 620, 621, 622, 624, 625, 628, 629, 630, 631, 632, 633, 634, 635, 636, 637, 641, 642, 643, 645, 646, 647, 649, 650, 651, 652, 654, 655, 656, 657, 659, 660, 661, 662, 663, 665, 669, 670, 674, 675, 676, 678, 680, 684, 685, 686, 687, 689, 691, 692, 694, 695, 697, 698, 699, 700, 702, 703, 705, 706, 707, 708, 709, 710, 712, 714, 715, 718, 719, 720, 721, 723, 726, 727, 728, 731, 734, 735, 736, 738, 740, 742, 745, 747, 748, 752, 753, 754, 756, 758, 759, 760, 762, 766, 768, 771, 772, 773, 775, 776, 778, 782, 783, 784, 786, 788, 790, 791, 792, 793, 796, 798, 800, 803, 805, 807, 809, 814, 816, 818, 820, 821, 824, 825, 830, 832, 833, 835, 836, 837, 838, 840, 841, 843, 844, 845, 846, 847, 850, 851, 852, 853, 854, 855, 856, 857, 858, 860, 861, 862, 864, 865, 866, 867, 868, 869, 870, 871, 872, 875, 876, 877, 878, 880, 881, 882, 885, 887, 888, 889, 890, 893, 895, 897, 899, 900, 902, 904, 906, 908, 909, 910, 911, 912, 913, 915, 916, 917, 919, 920, 922, 923, 925, 927, 928, 929, 931, 932, 934, 935, 937, 940, 941, 942, 943, 944, 946, 949, 954, 956, 957, 958, 959, 960, 961, 966, 969, 976, 977, 978, 979, 980, 981, 985, 986, 987, 988, 989, 990, 991, 993, 994, 997, 998, 1002, 1004, 1006, 1007, 1008, 1009, 1011, 1013, 1014, 1015, 1016, 1018, 1021, 1023, 1024, 1025, 1027, 1029, 1030, 1033, 1034, 1036, 1038, 1041, 1042, 1043, 1044, 1046, 1047, 1049, 1050, 1051, 1052, 1053, 1056, 1058, 1061, 1065, 1066, 1068, 1069, 1074, 1075, 1077, 1081, 1082, 1084, 1085, 1086, 1087, 1088, 1089, 1090, 1091, 1092, 1093, 1095, 1096, 1097, 1098, 1101, 1102, 1104, 1106, 1107, 1108, 1113, 1114, 1116, 1118, 1121, 1126, 1127, 1128, 1129, 1131, 1134, 1135, 1136, 1138, 1141, 1142, 1147, 1148, 1150, 1151, 1152, 1154, 1158, 1159, 1160, 1161, 1162, 1163, 1166, 1168, 1170, 1172, 1173, 1174, 1175, 1176, 1181, 1182, 1183, 1185, 1187, 1188, 1189, 1190, 1191, 1192, 1194, 1195, 1198, 1199, 1201, 1202, 1203, 1204, 1205, 1206, 1207, 1209, 1210, 1211, 1212, 1213, 1214, 1215, 1217, 1219, 1220, 1222, 1224, 1229, 1230, 1231, 1233, 1234, 1235, 1237, 1238, 1240, 1241, 1242, 1246, 1247, 1248, 1249, 1250, 1251, 1254, 1256, 1258, 1259, 1260, 1262, 1263, 1264, 1265, 1266, 1267, 1269, 1270, 1272, 1274, 1276, 1277, 1280, 1282, 1283, 1284, 1285, 1287, 1288, 1289, 1290, 1291, 1292, 1293, 1294, 1296, 1298, 1300, 1301, 1302, 1303, 1306, 1309, 1310, 1312, 1313, 1315, 1316, 1318, 1319, 1320, 1321, 1324, 1326, 1327, 1328, 1329, 1330, 1332, 1333, 1334, 1338, 1341, 1342, 1343, 1346, 1349, 1350, 1357, 1358, 1359, 1360, 1362, 1367, 1368, 1370, 1371, 1373, 1375, 1376, 1378, 1380, 1381, 1382, 1383, 1384, 1386, 1388, 1389, 1390, 1391, 1394, 1395, 1396, 1397, 1399, 1400, 1401, 1402, 1405, 1407, 1410, 1411, 1413, 1415, 1416, 1419, 1421, 1423, 1424, 1427, 1428, 1430, 1434, 1435, 1436, 1437, 1440, 1441, 1443, 1444, 1445, 1446, 1447, 1448, 1449, 1450, 1452, 1454, 1457, 1458, 1459, 1461, 1464, 1466, 1467, 1468, 1469, 1471, 1474, 1475, 1477, 1478, 1479, 1480, 1481, 1483, 1484, 1485, 1486, 1488, 1490, 1492, 1493, 1494, 1495, 1496, 1497, 1500, 1502, 1503, 1504, 1506, 1510, 1513, 1515, 1518, 1522, 1523, 1524, 1525, 1529, 1531, 1532, 1534, 1535, 1536, 1537, 1544, 1545, 1548, 1550, 1554, 1557, 1558, 1559, 1562, 1564, 1565, 1567, 1568, 1571, 1572, 1573, 1574, 1575, 1577, 1578, 1579, 1580, 1581, 1584, 1586, 1588, 1590, 1592, 1595, 1597, 1600, 1602, 1604, 1605, 1606, 1609, 1611, 1612, 1614, 1615, 1616, 1617, 1619, 1620, 1621, 1622, 1625, 1628, 1629, 1630, 1632, 1633, 1636, 1637, 1639, 1640, 1643, 1646, 1647, 1651, 1652, 1655, 1657, 1660, 1661, 1662, 1663, 1665, 1666, 1667, 1668, 1670, 1671, 1672, 1673, 1674, 1675, 1676, 1677, 1678, 1679]\n"
     ]
    }
   ],
   "source": []
  }
 ],
 "metadata": {
  "kernelspec": {
   "display_name": "transformer_env",
   "language": "python",
   "name": "python3"
  },
  "language_info": {
   "codemirror_mode": {
    "name": "ipython",
    "version": 3
   },
   "file_extension": ".py",
   "mimetype": "text/x-python",
   "name": "python",
   "nbconvert_exporter": "python",
   "pygments_lexer": "ipython3",
   "version": "3.12.7"
  }
 },
 "nbformat": 4,
 "nbformat_minor": 2
}
